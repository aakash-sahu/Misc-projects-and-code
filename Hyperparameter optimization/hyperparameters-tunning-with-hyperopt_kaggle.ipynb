{
 "cells": [
  {
   "cell_type": "markdown",
   "metadata": {
    "_uuid": "4010c9451d18c262f68da5d61ab015b71fa028fe"
   },
   "source": [
    "<center>\n",
    "<img src=\"https://habrastorage.org/files/fd4/502/43d/fd450243dd604b81b9713213a247aa20.jpg\" />\n",
    "    \n",
    "## [mlcourse.ai](https://mlcourse.ai) – Open Machine Learning Course \n",
    "### <center> Author: Ilya Larchenko, ODS Slack: ilya_l\n",
    "    \n",
    "## <center> Tutorial\n",
    "## <center> Forget about GridSearch - how to tune hyperparameters using Hyperopt"
   ]
  },
  {
   "cell_type": "markdown",
   "metadata": {
    "_uuid": "47557c88ccc0c972d2f46fdad33ebcb5405ce087"
   },
   "source": [
    "## Intro"
   ]
  },
  {
   "cell_type": "markdown",
   "metadata": {
    "_uuid": "9ca7108c9035042754f8e11e05c350a03195e3b5"
   },
   "source": [
    "Hyperparameters tunning is an essential part of any Machine Learning project and one of the most time consuming.\n",
    "Even for the simplest models it can take hours to find the optimal parameters not mentioning neural nets that can be optimized day, weeks or even longer.\n",
    "\n",
    "There are standard approaches to solve this task - Grid Search and Random Search. Every data scientist is familiar with them. But are there alternatives? Are there ways to find better parameters and do it faster?\n",
    "\n",
    "The answer is yes - hyperparameters tunning is no more than function optimization task. And obviously Grid or Random search do not seem to be the only and the best algorithms.\n",
    "\n",
    "In this tutorial I will consider a couple of alternative approaches - TPE and Simulated Annealing. These approaches are not the only alternatives but usually they work better than standard search approaches and are quite simple to implement. I will describe how they work from the theoretical standpoint and will show you how to use them in practice using Hyperopt library.\n",
    "\n",
    "After this tutorial you will know how to easily speed up your modeling process.\n",
    "\n",
    "\n",
    "Disclaimer: I will use toy example here and will not utilize the optimal order of parameters optimization for LGBMRegressor, the sole goal of the tutorial is to demonstrate and explain how to use Hyperopt on the extremely simplified example."
   ]
  },
  {
   "cell_type": "markdown",
   "metadata": {
    "_uuid": "ad287a788ee6549536930ebdaa6bbc76c2053562"
   },
   "source": [
    "## Preparation step"
   ]
  },
  {
   "cell_type": "markdown",
   "metadata": {
    "_uuid": "0ca8d042d64a1c0477928ea4318f11d59b4b08bf"
   },
   "source": [
    "Let's import some standard libraries"
   ]
  },
  {
   "cell_type": "code",
   "execution_count": 1,
   "metadata": {
    "_uuid": "1cf79a002403a7d7cef64517766b0ea22d75ee10"
   },
   "outputs": [],
   "source": [
    "import numpy as np\n",
    "import pandas as pd\n",
    "\n",
    "from lightgbm.sklearn import LGBMRegressor\n",
    "from sklearn.metrics import mean_squared_error\n",
    "\n",
    "%matplotlib inline\n",
    "\n",
    "import warnings                                  # `do not disturbe` mode\n",
    "warnings.filterwarnings('ignore')"
   ]
  },
  {
   "cell_type": "markdown",
   "metadata": {
    "_uuid": "e1b590f7bd527312c143b2163b447a4c5763c657"
   },
   "source": [
    "We will demonstrate and compare different algorithms on diabetes dataset from sklearn.datasets. Let's load it."
   ]
  },
  {
   "cell_type": "code",
   "execution_count": 2,
   "metadata": {
    "_uuid": "765fa5dc0f2c666fa9c9436807a8faba9a173708"
   },
   "outputs": [],
   "source": [
    "from sklearn.datasets import load_diabetes\n",
    "\n",
    "diabetes = load_diabetes()\n",
    "n = diabetes.data.shape[0]\n",
    "\n",
    "data = diabetes.data\n",
    "targets = diabetes.target"
   ]
  },
  {
   "cell_type": "markdown",
   "metadata": {
    "_uuid": "e3f1d13b8170e992c12a452de1c091b18239d9da"
   },
   "source": [
    "You can find the description of the dataset  here: [https://www4.stat.ncsu.edu/~boos/var.select/diabetes.html ]\n",
    "    \n",
    "Long story short: this is the dataset with information about some patients and target metric \"quantitative measure of disease progression one year after baseline\". For the purpose of this tutorial you don't even need to understand the data, just keep in mind that we are solving some regression problem and want to tune our hyperparameters."
   ]
  },
  {
   "cell_type": "markdown",
   "metadata": {
    "_uuid": "f6645895ec9c90983aadfa709e985faadc6070c9"
   },
   "source": [
    "The dataset is very small. I have selected it because it will be easy to demonstrate basic concept using it. You will not need to wait hours when everything is calculating. We will divide the dataset into train and test parts. The train part will be split into 2 folds, we will use Cross Validation MSE as a final metrics according to which we are optimizing parameters.\n",
    "\n",
    "Disclaimer: this toy example is far from the real life and it is used only for the fast illustration. Because of the small dataset and only 2 folds it can be unstable - results change drastically with different random_state."
   ]
  },
  {
   "cell_type": "code",
   "execution_count": 3,
   "metadata": {
    "_uuid": "a03a958e21339dd1025dbf35982632ff93f51ba6"
   },
   "outputs": [],
   "source": [
    "from sklearn.model_selection import KFold, cross_val_score\n",
    "from sklearn.model_selection import train_test_split\n",
    "\n",
    "random_state=42\n",
    "n_iter=50\n",
    "\n",
    "train_data, test_data, train_targets, test_targets = train_test_split(data, targets, \n",
    "                                                                      test_size=0.20, shuffle=True,\n",
    "                                                                      random_state=random_state)\n",
    "\n",
    "num_folds=2\n",
    "kf = KFold(n_splits=num_folds, random_state=random_state)"
   ]
  },
  {
   "cell_type": "markdown",
   "metadata": {
    "_uuid": "8dbd8f844f45acc63e237c77b48407476151c38f"
   },
   "source": [
    "We will try to solve the problem using LGBMRegressor. Gradient Boosting has a lot of hyperparameters to optimize and that's why it is a good choice for our demonstration."
   ]
  },
  {
   "cell_type": "code",
   "execution_count": 4,
   "metadata": {
    "_uuid": "9bf051a75a586539f061c2c977524f103941afcc"
   },
   "outputs": [],
   "source": [
    "model = LGBMRegressor(random_state=random_state)"
   ]
  },
  {
   "cell_type": "markdown",
   "metadata": {
    "_uuid": "7475ebdcd85967d0c0b5092ca66b86344b414323"
   },
   "source": [
    "Let's train a baseline model with the default parameters:"
   ]
  },
  {
   "cell_type": "code",
   "execution_count": 5,
   "metadata": {
    "_uuid": "1d203f86659ec99ac7a55f5bcff02d8cf06d4a38"
   },
   "outputs": [
    {
     "name": "stdout",
     "output_type": "stream",
     "text": [
      "3532.0822189641976\n",
      "Wall time: 5.76 s\n"
     ]
    }
   ],
   "source": [
    "%%time\n",
    "score = -cross_val_score(model, train_data, train_targets, cv=kf, scoring=\"neg_mean_squared_error\", n_jobs=-1).mean()\n",
    "print(score)"
   ]
  },
  {
   "cell_type": "markdown",
   "metadata": {
    "_uuid": "ef1feb98b2e775f2ae20630363b4b3d4d6a569ad"
   },
   "source": [
    "The result of out of the box model is 3532. Let's try to improve it using different optimization approaches.\n",
    "For the demonstration purposes we will optimize model tunning only 3 parameters:\n",
    "- n_estimators: from 100 to 2000\n",
    "- max_depth: from 2 to 20\n",
    "- learning_rate: from 10e-5 to 1"
   ]
  },
  {
   "cell_type": "markdown",
   "metadata": {
    "_uuid": "5498ab7409dcd98209571ea04eec274e420c92a5"
   },
   "source": [
    "## GridSearch"
   ]
  },
  {
   "cell_type": "markdown",
   "metadata": {
    "_uuid": "17d39a1b4734e9ed16d21f52baff088dfd0e4072"
   },
   "source": [
    "The first and the simplest method to try is GridSearchCV which is included in sklearn.model_selection\n",
    "This approach just trying all available parameters' combinations 1 by 1 and choose the one with the best cross validation results.\n",
    "\n",
    "This approach has several drawbacks:\n",
    "1. It is very slow - you just try ALL combinations of ALL parameters and it takes a lot of time. Any additional parameter to variate multiply the number of iterations you need to complete. Imagine that you add to the parameter grid a new parameter with 10 possible values, this parameter can turn out to be meaningless but the computational time will be increased 10 times.\n",
    "2. It can work only with discrete values. If the global optimum is on n_estimators=550, but you are doing GridSearchCV from 100 to 1000 with step 100, you will never reach the optimal point.\n",
    "3. You need to know / guess the approximate localization of the optimum to complete the search in a reasonable time.\n",
    "\n",
    "You can overcome some of this drawbacks: you can do grid search parameter by parameter, or use it several times starting from the broad grid with large steps and narrowing the boundaries and decreasing step sizes on any iterations. But is still will be very computationally intensive and long."
   ]
  },
  {
   "cell_type": "markdown",
   "metadata": {
    "_uuid": "3f67b16254bdbed65b67cf8ae5bb682d5a725d72"
   },
   "source": [
    "Let's estimate the time to do the Grid Search in our case. Let's suppose we want our grid to consist of 20 possible values of 'n_estimators' (100 to 2000), 19 values of 'max_depth' (2 to 20), and 5 values of 'learning_rate' (10e-4 to 0.1).\n",
    "\n",
    "This means we need to compute cross_val_score 20\\*19\\*5 = 1 900 times. If 1 computation takes ~0.5-1.0 second, our grid search will last for ~15-30 minutes. It is too much for the dataset with ~400 data points.\n",
    "\n",
    "We don't want to wait so long. We need to narrow down intervals we want to analyze using this method. I have left only 5\\*8\\*3=120 combinations. On my laptom it was computed in 1,5 minutes on kaggle kernel ~20 seconds.\n",
    "\n",
    "Let's do the computations:"
   ]
  },
  {
   "cell_type": "code",
   "execution_count": 6,
   "metadata": {
    "_uuid": "a31a95597234827cb3b84baa4f139f9ed6a378c7"
   },
   "outputs": [
    {
     "name": "stdout",
     "output_type": "stream",
     "text": [
      "Best MSE 3320.630 params {'learning_rate': 0.01, 'max_depth': 5, 'n_estimators': 800, 'random_state': 42}\n",
      "Wall time: 10.8 s\n"
     ]
    }
   ],
   "source": [
    "%%time\n",
    "from sklearn.model_selection import GridSearchCV\n",
    "\n",
    "param_grid={'learning_rate': np.logspace(-3, -1, 3),\n",
    "            'max_depth':  np.linspace(5,12,8,dtype = int),\n",
    "            'n_estimators': np.linspace(800,1200,5, dtype = int),\n",
    "            'random_state': [random_state]}\n",
    "\n",
    "gs=GridSearchCV(model, param_grid, scoring='neg_mean_squared_error', fit_params=None, \n",
    "                n_jobs=-1, cv=kf, verbose=False)\n",
    "\n",
    "gs.fit(train_data, train_targets)\n",
    "gs_test_score=mean_squared_error(test_targets, gs.predict(test_data))\n",
    "\n",
    "\n",
    "print(\"Best MSE {:.3f} params {}\".format(-gs.best_score_, gs.best_params_))"
   ]
  },
  {
   "cell_type": "markdown",
   "metadata": {
    "_uuid": "d2a7d98764a66271fa6db8df12368abb867b29a7"
   },
   "source": [
    "We have managed to improve the results. But spent a lot of time on it. Let's look how our parameters have been changing from iteration to iteration:"
   ]
  },
  {
   "cell_type": "code",
   "execution_count": 7,
   "metadata": {
    "_uuid": "3e6726dc41a33a8ff9640f0808033f6c31a0a452"
   },
   "outputs": [
    {
     "data": {
      "text/plain": [
       "array([<matplotlib.axes._subplots.AxesSubplot object at 0x000001C9B3B64978>,\n",
       "       <matplotlib.axes._subplots.AxesSubplot object at 0x000001C9B26B6F28>,\n",
       "       <matplotlib.axes._subplots.AxesSubplot object at 0x000001C9B3E388D0>,\n",
       "       <matplotlib.axes._subplots.AxesSubplot object at 0x000001C9B3E5C9E8>],\n",
       "      dtype=object)"
      ]
     },
     "execution_count": 7,
     "metadata": {},
     "output_type": "execute_result"
    },
    {
     "data": {
      "image/png": "[encoded data removed]",
      "text/plain": [
       "<Figure size 720x720 with 4 Axes>"
      ]
     },
     "metadata": {
      "needs_background": "light"
     },
     "output_type": "display_data"
    }
   ],
   "source": [
    "gs_results_df=pd.DataFrame(np.transpose([-gs.cv_results_['mean_test_score'],\n",
    "                                         gs.cv_results_['param_learning_rate'].data,\n",
    "                                         gs.cv_results_['param_max_depth'].data,\n",
    "                                         gs.cv_results_['param_n_estimators'].data]),\n",
    "                           columns=['score', 'learning_rate', 'max_depth', 'n_estimators'])\n",
    "gs_results_df.plot(subplots=True,figsize=(10, 10))"
   ]
  },
  {
   "cell_type": "markdown",
   "metadata": {
    "_uuid": "838c64997a0d3cdefa97ecc2ee50c70fd703dbe2"
   },
   "source": [
    "We can see that for example max_depth is the least important parameter it does not influence score significantly. But we are searching over 8 different values of max_depth, and with any fixed value search over other parameters. It is obvious waste of time and resources.\n",
    "\n",
    "Let's try a RandomizedSearch approach now."
   ]
  },
  {
   "cell_type": "markdown",
   "metadata": {
    "_uuid": "332c3ec512a4dc40eec40a474320cbb7b9ff5f26"
   },
   "source": [
    "## Random Search"
   ]
  },
  {
   "cell_type": "markdown",
   "metadata": {
    "_uuid": "6f426cfef21e9cdada0fa986f123c380b92c219a"
   },
   "source": [
    "Random Search is on average more effective than Grid Search.\n",
    "\n",
    "Main advantages:\n",
    "1. Don't spend time on meaningless parameters. On every step random search variate all parameters.\n",
    "2. On average finds ~optimal parameters much faster than Grid search.\n",
    "3. It is not limited by grid when we optimize continuous parameters.\n",
    "\n",
    "Disadvantages:\n",
    "1. It may not find the global optimal parameter on a grid.\n",
    "2. All steps are independent. On every particular step it does not use any information about the results gathered so far. But they can be useful. For example, if we found a good solution it can be useful to search around it to find even better point comparing to looking at other completely random variants."
   ]
  },
  {
   "cell_type": "markdown",
   "metadata": {
    "_uuid": "a33f26a6a9bf1cf5ecc1998a393a2f7f503de070"
   },
   "source": [
    "Let's try to use RandomizedSearchCV from sklearn.model_selection.\n",
    "\n",
    "We will start with very broad parameters space and make only 50 random steps:"
   ]
  },
  {
   "cell_type": "code",
   "execution_count": 8,
   "metadata": {
    "_uuid": "3ee9dfee72408236a49c4f7155afd6a6059dbd23"
   },
   "outputs": [
    {
     "name": "stdout",
     "output_type": "stream",
     "text": [
      "Best MSE 3200.924 params {'learning_rate': 0.0047508101621027985, 'max_depth': 19, 'n_estimators': 829, 'random_state': 42}\n",
      "Wall time: 3.68 s\n"
     ]
    }
   ],
   "source": [
    "%%time\n",
    "from sklearn.model_selection import RandomizedSearchCV\n",
    "from scipy.stats import randint\n",
    "\n",
    "param_grid_rand={'learning_rate': np.logspace(-5, 0, 100),\n",
    "                 'max_depth':  randint(2,20),\n",
    "                 'n_estimators': randint(100,2000),\n",
    "                 'random_state': [random_state]}\n",
    "\n",
    "rs=RandomizedSearchCV(model, param_grid_rand, n_iter = n_iter, scoring='neg_mean_squared_error', fit_params=None, \n",
    "                n_jobs=-1, cv=kf, verbose=False, random_state=random_state)\n",
    "\n",
    "rs.fit(train_data, train_targets)\n",
    "\n",
    "rs_test_score=mean_squared_error(test_targets, rs.predict(test_data))\n",
    "\n",
    "print(\"Best MSE {:.3f} params {}\".format(-rs.best_score_, rs.best_params_))"
   ]
  },
  {
   "cell_type": "markdown",
   "metadata": {
    "_uuid": "52137d9beb992e2a457bc2f527f98d23c4a824f6"
   },
   "source": [
    "As we can see, the results are already better than GridSearchCV. We have spent less time and made more complete search. Let's look at our visualization:"
   ]
  },
  {
   "cell_type": "code",
   "execution_count": 9,
   "metadata": {
    "_uuid": "8de5797599f129362d7b68ad1bb96859e88f14b0"
   },
   "outputs": [
    {
     "data": {
      "text/plain": [
       "array([<matplotlib.axes._subplots.AxesSubplot object at 0x000001C9B41A74A8>,\n",
       "       <matplotlib.axes._subplots.AxesSubplot object at 0x000001C9B3FB7470>,\n",
       "       <matplotlib.axes._subplots.AxesSubplot object at 0x000001C9B3FDB588>,\n",
       "       <matplotlib.axes._subplots.AxesSubplot object at 0x000001C9B40046A0>],\n",
       "      dtype=object)"
      ]
     },
     "execution_count": 9,
     "metadata": {},
     "output_type": "execute_result"
    },
    {
     "data": {
      "image/png": "[encoded data removed]",
      "text/plain": [
       "<Figure size 720x720 with 4 Axes>"
      ]
     },
     "metadata": {
      "needs_background": "light"
     },
     "output_type": "display_data"
    }
   ],
   "source": [
    "rs_results_df=pd.DataFrame(np.transpose([-rs.cv_results_['mean_test_score'],\n",
    "                                         rs.cv_results_['param_learning_rate'].data,\n",
    "                                         rs.cv_results_['param_max_depth'].data,\n",
    "                                         rs.cv_results_['param_n_estimators'].data]),\n",
    "                           columns=['score', 'learning_rate', 'max_depth', 'n_estimators'])\n",
    "rs_results_df.plot(subplots=True,figsize=(10, 10))"
   ]
  },
  {
   "cell_type": "markdown",
   "metadata": {
    "_uuid": "a076db56ca851e3cafb903a2e042c5eb9ee98d28"
   },
   "source": [
    "As we can see every step is completely random. It helps not to spent time on useless parameters, but it still does not use the information gathered on the first steps to improve outcomes of the latter ones."
   ]
  },
  {
   "cell_type": "markdown",
   "metadata": {
    "_uuid": "41b8c967c2de478377ad5fa3febf4a8ea1492fb2"
   },
   "source": [
    "We can modify random search adding more attention to the areas where we have already find quite a good solutions. There are different ways to do it. We will consider two of them Tree-structured Parzen Estimator and Simulated Anneal."
   ]
  },
  {
   "cell_type": "markdown",
   "metadata": {
    "_uuid": "f48c453bb55c8afa705fccfd2cc24484ae5be3de"
   },
   "source": [
    "## Hyperopt"
   ]
  },
  {
   "cell_type": "markdown",
   "metadata": {
    "_uuid": "3f0a92a0b3f229c2d5d2c6980fcee6c36181fb48"
   },
   "source": [
    "We will use hyperopt [https://github.com/hyperopt/hyperopt ] library to deal with this algorithms. It is one of the most popular libraries for the hyperparameter optimization."
   ]
  },
  {
   "cell_type": "markdown",
   "metadata": {
    "_uuid": "89e39cd964a2a6540a1f9a2f56c5d5d0a53f1b8d"
   },
   "source": [
    "To install the library you can use either pip or conda (depending on your environment)"
   ]
  },
  {
   "cell_type": "code",
   "execution_count": 10,
   "metadata": {
    "_uuid": "6a9a88fb7a20dc189ea9470a8f7f1f2aa646ba64"
   },
   "outputs": [
    {
     "name": "stdout",
     "output_type": "stream",
     "text": [
      "Requirement already satisfied: hyperopt in c:\\anaconda3\\lib\\site-packages (0.1.2)\n",
      "Requirement already satisfied: numpy in c:\\anaconda3\\lib\\site-packages (from hyperopt) (1.15.4)\n",
      "Requirement already satisfied: scipy in c:\\anaconda3\\lib\\site-packages (from hyperopt) (1.1.0)\n",
      "Requirement already satisfied: pymongo in c:\\anaconda3\\lib\\site-packages (from hyperopt) (3.7.2)\n",
      "Requirement already satisfied: six in c:\\anaconda3\\lib\\site-packages (from hyperopt) (1.12.0)\n",
      "Requirement already satisfied: networkx in c:\\anaconda3\\lib\\site-packages (from hyperopt) (2.2)\n",
      "Requirement already satisfied: future in c:\\anaconda3\\lib\\site-packages (from hyperopt) (0.17.1)\n",
      "Requirement already satisfied: tqdm in c:\\anaconda3\\lib\\site-packages (from hyperopt) (4.28.1)\n",
      "Requirement already satisfied: decorator>=4.3.0 in c:\\anaconda3\\lib\\site-packages (from networkx->hyperopt) (4.3.0)\n"
     ]
    }
   ],
   "source": [
    "#!pip install hyperopt\n",
    "#!conda install -c conda-forge hyperopt"
   ]
  },
  {
   "cell_type": "markdown",
   "metadata": {
    "_uuid": "be5819ebfc5eedfdd014a994baa2269400d22f48"
   },
   "source": [
    "First of all let's import some useful functions from the hyperopt:\n",
    "- fmin - the main function for us, it will minimize our functional\n",
    "- tpe and anneal - optimization approaches\n",
    "- hp - include different distributions of variables\n",
    "- Trials - is used for logging"
   ]
  },
  {
   "cell_type": "code",
   "execution_count": 11,
   "metadata": {
    "_uuid": "3c552fe9216078136718fc2c6891e605ffe2824a"
   },
   "outputs": [],
   "source": [
    "from hyperopt import fmin, tpe, hp, anneal, Trials"
   ]
  },
  {
   "cell_type": "markdown",
   "metadata": {
    "_uuid": "cb2756d61658223d40d5622e9d84e3bb50580ca8"
   },
   "source": [
    "The interface of hyperop.fmin differs from Grid or Randomized search. First of all we need to create a function to minimize."
   ]
  },
  {
   "cell_type": "code",
   "execution_count": 12,
   "metadata": {
    "_uuid": "f27c9275f3263d85c8f40333be3e9740fcf638fd"
   },
   "outputs": [],
   "source": [
    "def gb_mse_cv(params, random_state=random_state, cv=kf, X=train_data, y=train_targets):\n",
    "    # the function gets a set of variable parameters in \"param\"\n",
    "    params = {'n_estimators': int(params['n_estimators']), \n",
    "              'max_depth': int(params['max_depth']), \n",
    "             'learning_rate': params['learning_rate']}\n",
    "    \n",
    "    # we use this params to create a new LGBM Regressor\n",
    "    model = LGBMRegressor(random_state=random_state, **params)\n",
    "    \n",
    "    # and then conduct the cross validation with the same folds as before\n",
    "    score = -cross_val_score(model, X, y, cv=cv, scoring=\"neg_mean_squared_error\", n_jobs=-1).mean()\n",
    "\n",
    "    return score"
   ]
  },
  {
   "cell_type": "markdown",
   "metadata": {
    "_uuid": "b8f72b65c253bffe6871c10a7f1823957844f493"
   },
   "source": [
    "We are finally prepared - we have a function gb_mse_cv(), that we will minimize varying parameters: 'learning_rate', 'max_depth', 'n_estimators'. Let's start with the TPE algorithm."
   ]
  },
  {
   "cell_type": "markdown",
   "metadata": {
    "_uuid": "f2786a30eec7211d7ae35936a07aae86122eab07"
   },
   "source": [
    "### Tree-structured Parzen Estimator"
   ]
  },
  {
   "cell_type": "markdown",
   "metadata": {
    "_uuid": "bc794e43a736753f6dba11e983817cf3e22fcf06"
   },
   "source": [
    "TPE is a default algorithm for the Hyperopt. It uses Bayesian approach for optimization. At every step it is trying to build probabilistic model of the function and choose the most promising parameters for the next step. Generally this types of algorithms works like this:\n",
    "\n",
    "1. Generate random initial point ${x^*}$\n",
    "2. Calculate ${F(x^*)}$\n",
    "3. Using the history of trials try to build the conditional probability model $P(F | x)$\n",
    "4. Choose ${x_i}$ that according to the $P(F | x)$ will most probably result in better ${F(x_i)}$\n",
    "5. Compute the real value of the ${F(x_i)}$\n",
    "6. Repeat steps 3-5 until one of the stop criteria is satisfied, for example i > max_eval\n",
    "\n",
    "More information about particular TPE algorithm you can find, for example, here [https://towardsdatascience.com/a-conceptual-explanation-of-bayesian-model-based-hyperparameter-optimization-for-machine-learning-b8172278050f ] or in other articles. But it is beyond the scope of this tutorial.\n",
    "\n",
    "Let's go to practice."
   ]
  },
  {
   "cell_type": "markdown",
   "metadata": {
    "_uuid": "46ae2910eb08d04c16dd031af19c2f7fef0e1242"
   },
   "source": [
    "Using of fmin is very simple. We just need to define the possible space of our parameters and call the function."
   ]
  },
  {
   "cell_type": "code",
   "execution_count": 13,
   "metadata": {
    "_uuid": "5e4913df7f0869eb1f281a1f0b7ae70c9783183e"
   },
   "outputs": [
    {
     "name": "stdout",
     "output_type": "stream",
     "text": [
      "100%|███████████████████████████████████████████████████| 50/50 [00:06<00:00,  7.77it/s, best loss: 3186.7910608402444]\n",
      "Best MSE 3186.791 params {'learning_rate': 0.026975706032324936, 'max_depth': 20.0, 'n_estimators': 168.0}\n",
      "Wall time: 6.53 s\n"
     ]
    }
   ],
   "source": [
    "%%time\n",
    "\n",
    "# possible values of parameters\n",
    "space={'n_estimators': hp.quniform('n_estimators', 100, 2000, 1),\n",
    "       'max_depth' : hp.quniform('max_depth', 2, 20, 1),\n",
    "       'learning_rate': hp.loguniform('learning_rate', -5, 0)\n",
    "      }\n",
    "\n",
    "# trials will contain logging information\n",
    "trials = Trials()\n",
    "\n",
    "best=fmin(fn=gb_mse_cv, # function to optimize\n",
    "          space=space, \n",
    "          algo=tpe.suggest, # optimization algorithm, hyperotp will select its parameters automatically\n",
    "          max_evals=n_iter, # maximum number of iterations\n",
    "          trials=trials, # logging\n",
    "          rstate=np.random.RandomState(random_state) # fixing random state for the reproducibility\n",
    "         )\n",
    "\n",
    "# computing the score on the test set\n",
    "model = LGBMRegressor(random_state=random_state, n_estimators=int(best['n_estimators']),\n",
    "                      max_depth=int(best['max_depth']),learning_rate=best['learning_rate'])\n",
    "model.fit(train_data,train_targets)\n",
    "tpe_test_score=mean_squared_error(test_targets, model.predict(test_data))\n",
    "\n",
    "print(\"Best MSE {:.3f} params {}\".format( gb_mse_cv(best), best))"
   ]
  },
  {
   "cell_type": "markdown",
   "metadata": {
    "_uuid": "d5d4a550fcfa0ee42cbbefa3ea4c94144e2897db"
   },
   "source": [
    "We have managed to find even better solution comparing to the RandomizedSearch.\n",
    "Let's look at the visualization of the process"
   ]
  },
  {
   "cell_type": "code",
   "execution_count": null,
   "metadata": {
    "_uuid": "be9f71ce81e1b9d00bf27f571faa9bf91a2959e6"
   },
   "outputs": [],
   "source": [
    "tpe_results=np.array([[x['result']['loss'],\n",
    "                      x['misc']['vals']['learning_rate'][0],\n",
    "                      x['misc']['vals']['max_depth'][0],\n",
    "                      x['misc']['vals']['n_estimators'][0]] for x in trials.trials])\n",
    "\n",
    "tpe_results_df=pd.DataFrame(tpe_results,\n",
    "                           columns=['score', 'learning_rate', 'max_depth', 'n_estimators'])\n",
    "tpe_results_df.plot(subplots=True,figsize=(10, 10))"
   ]
  },
  {
   "cell_type": "markdown",
   "metadata": {
    "_uuid": "99b7f61bb98a581b1a85d2dc735d24fd57b205ab"
   },
   "source": [
    "We can see that the movement of the parameters are quite random but the results become better with time: there are no extremely bad scores after 25 iterations but the number of good solutions increases. Algorithm started to predict quite good solutions, using information from the previous steps."
   ]
  },
  {
   "cell_type": "markdown",
   "metadata": {
    "_uuid": "4df482330ebdbd09332821b1ae6733db7fdefeed"
   },
   "source": [
    "### Simulated Anneal"
   ]
  },
  {
   "cell_type": "markdown",
   "metadata": {
    "_uuid": "95f0bdeae462982f5fe7535b2ec449c4b1bbce3d"
   },
   "source": [
    "Simulated anneal minimizes function ${F(x)}$ (in case of hyperparameters optimization x - parameters, F() - cross validation score function) as follows:\n",
    "\n",
    "1. Generate random initial point ${x^*}$\n",
    "2. Calculate ${F(x^*)}$\n",
    "\n",
    "3. Generate ${x_i}$ randomly in some neighbourhood of ${x*}$\n",
    "4. Calculate ${F(x_i)}$\n",
    "5. Update ${x*}$ according to the rule:\n",
    "\n",
    "    if ${F(x_i)}<={F(x^*)}: {x^*} = {x_i}$ \n",
    "\n",
    "    else: ${x^*} = {x_i}$ with probability $p=\\exp\\left(\\dfrac{F({x^*})-F({x_i})}{T_i}\\right)$\n",
    "\n",
    "where ${T_i}$, called temperature is constantly decreasing sequence\n",
    "\n",
    "Repeat steps 3-5 until one of the stop criteria is satisfied:\n",
    "- i > max_eval\n",
    "- ${T_i} < {T_{min}}$"
   ]
  },
  {
   "cell_type": "markdown",
   "metadata": {
    "_uuid": "f8821bfd9c251a51ebe5cc1b345db5c19c063556"
   },
   "source": [
    "While ${T_i}$ is high, the algorithm performs a lot of exploration steps (similar to random search) as the probability to update ${x^*}$ is high even if ${F(x_i)}>{F(x^*)}$\n",
    "\n",
    "But when T became lower the algorithm focuses on exploitation - all ${x_i}$ are near one of the best solutions found so far.\n",
    "\n",
    "In the end with the right algorithms parameters it can reach a good balance between exploitation / exploration and can lead to the better results comparing to the Random Search. Let's check it on our toy example."
   ]
  },
  {
   "cell_type": "markdown",
   "metadata": {
    "_uuid": "0010a8fddd825738456c44a4f5b0f9e27b80e85d"
   },
   "source": [
    "You can try to implement your own realization of the simulated annealing algorithm (it is much easier than TPE), but it is already implemented in hyperopt and we can just set \"algo\" param of fmin to \"anneal.suggest\" (hyperopt will automatically chose parameters of anneal for you)."
   ]
  },
  {
   "cell_type": "code",
   "execution_count": null,
   "metadata": {
    "_uuid": "6dfe1723b6971056b4138f024f443cae15808a1c"
   },
   "outputs": [],
   "source": [
    "%%time\n",
    "\n",
    "# possible values of parameters\n",
    "space={'n_estimators': hp.quniform('n_estimators', 100, 2000, 1),\n",
    "       'max_depth' : hp.quniform('max_depth', 2, 20, 1),\n",
    "       'learning_rate': hp.loguniform('learning_rate', -5, 0)\n",
    "      }\n",
    "\n",
    "# trials will contain logging information\n",
    "trials = Trials()\n",
    "\n",
    "best=fmin(fn=gb_mse_cv, # function to optimize\n",
    "          space=space, \n",
    "          algo=anneal.suggest, # optimization algorithm, hyperotp will select its parameters automatically\n",
    "          max_evals=n_iter, # maximum number of iterations\n",
    "          trials=trials, # logging\n",
    "          rstate=np.random.RandomState(random_state) # fixing random state for the reproducibility\n",
    "         )\n",
    "\n",
    "# computing the score on the test set\n",
    "model = LGBMRegressor(random_state=random_state, n_estimators=int(best['n_estimators']),\n",
    "                      max_depth=int(best['max_depth']),learning_rate=best['learning_rate'])\n",
    "model.fit(train_data,train_targets)\n",
    "sa_test_score=mean_squared_error(test_targets, model.predict(test_data))\n",
    "\n",
    "print(\"Best MSE {:.3f} params {}\".format( gb_mse_cv(best), best))"
   ]
  },
  {
   "cell_type": "code",
   "execution_count": null,
   "metadata": {
    "_uuid": "72d25f99ab75aa83862ebb32967cd5161e44fc8b"
   },
   "outputs": [],
   "source": [
    "sa_results=np.array([[x['result']['loss'],\n",
    "                      x['misc']['vals']['learning_rate'][0],\n",
    "                      x['misc']['vals']['max_depth'][0],\n",
    "                      x['misc']['vals']['n_estimators'][0]] for x in trials.trials])\n",
    "\n",
    "sa_results_df=pd.DataFrame(sa_results,\n",
    "                           columns=['score', 'learning_rate', 'max_depth', 'n_estimators'])\n",
    "sa_results_df.plot(subplots=True,figsize=(10, 10))"
   ]
  },
  {
   "cell_type": "markdown",
   "metadata": {
    "_uuid": "53bb45f81cb48bbc988ebb9db662573cf80c6088"
   },
   "source": [
    "This visualization shows the main idea of the Simulated annealing algorithm very well. At the beginning when the temperature is high it works similarly to Random Search - it is just exploring all possible states. But along with cooling it moves to exploitation stage and focus on the most promising areas. And finally converges to the very good solution."
   ]
  },
  {
   "cell_type": "markdown",
   "metadata": {
    "_uuid": "4340b296916b18b2bc762d67241d8dcee53c2788"
   },
   "source": [
    "## Results"
   ]
  },
  {
   "cell_type": "markdown",
   "metadata": {
    "_uuid": "9944867363cbf5a927943f3289e9b623aae84de2"
   },
   "source": [
    "Let's plot best_cumulative_score vs. number_of_iterations for all approaches:"
   ]
  },
  {
   "cell_type": "code",
   "execution_count": null,
   "metadata": {
    "_uuid": "d1a72c7ac8eadb2d328cf45b7152d23224b32188"
   },
   "outputs": [],
   "source": [
    "scores_df=pd.DataFrame(index=range(n_iter))\n",
    "scores_df['Grid Search']=gs_results_df['score'].cummin()\n",
    "scores_df['Random Search']=rs_results_df['score'].cummin()\n",
    "scores_df['TPE']=tpe_results_df['score'].cummin()\n",
    "scores_df['Annealing']=sa_results_df['score'].cummin()\n",
    "\n",
    "ax = scores_df.plot()\n",
    "\n",
    "ax.set_xlabel(\"number_of_iterations\")\n",
    "ax.set_ylabel(\"best_cumulative_score\")"
   ]
  },
  {
   "cell_type": "markdown",
   "metadata": {
    "_uuid": "2e50894378f54571ff2a6c3bea91baf7277fea20"
   },
   "source": [
    "We can see than TPE and Annealing algorithms actually keeps improving search results over time even on later steps while Random search randomly found quite a good solution in the beginning and then only slightly improved the results. The current difference between TPE and RandomizedSearch results is quite small but in some real life applications with more diversified range of hyperparameters hyperopt can give you significant time/score improvement.\n",
    "\n",
    "Note: in real life it is more correct to use time and not a number of iterations for comparison, but in our toy example the proportion of time spent on the additional calculations in tpe and annealing is to high comparing to cross_val_score calculation time so I have decided not to mislead you about computational speed of the hyperopt and plot scores in relation to the iteration number."
   ]
  },
  {
   "cell_type": "markdown",
   "metadata": {
    "_uuid": "1c26cd44e7fd1939994c6a0092d28eb39cc92893"
   },
   "source": [
    "And just to be sure that everything was correct let's compare test data results, and ensure they are inline with cross validation ones"
   ]
  },
  {
   "cell_type": "code",
   "execution_count": null,
   "metadata": {
    "_uuid": "2295afb1e87f4138d078bc478e79ee468fa3a1c1"
   },
   "outputs": [],
   "source": [
    "print('Test MSE scored:')\n",
    "print(\"Grid Search {:.3f}\".format(gs_test_score))\n",
    "print(\"Random Search {:.3f}\".format(rs_test_score))\n",
    "print(\"TPE {:.3f}\".format(tpe_test_score))\n",
    "print(\"Annealing {:.3f}\".format(sa_test_score))"
   ]
  },
  {
   "cell_type": "markdown",
   "metadata": {
    "_uuid": "3f0c5d6b856768c72eadcb8a28d83f67e0962adc"
   },
   "source": [
    "It is turned out that the results from the Annealing algorithm actually has the lowest test score. The results shake and on average better test score comparing to the CV are the consequences of the very small dataset."
   ]
  },
  {
   "cell_type": "markdown",
   "metadata": {
    "_uuid": "92d6221b017cc5a9c734b8a0962f70f622efd147"
   },
   "source": [
    "## Resume"
   ]
  },
  {
   "cell_type": "markdown",
   "metadata": {
    "_uuid": "ddc2a2fef69e7abbe99ec3b2fb378e45928ed771"
   },
   "source": [
    "Now you know more about different hyperparameters optimization approaches and can apply hyperopt library on practice. In real case you never know in advance which approach will be the best (even in this toy example with some random states RandomizedSearch can win), and sometimes fast GridSearch or simple RandomizedSearch can be a good choice, but it is always useful to know about alternatives.\n",
    "\n",
    "Hope this tutorial will save you a lot of time in the future ML projects."
   ]
  },
  {
   "cell_type": "markdown",
   "metadata": {
    "_uuid": "ce4b564eb1ba601eab37385687301b870d77fa21"
   },
   "source": [
    "## Bonus"
   ]
  },
  {
   "cell_type": "markdown",
   "metadata": {
    "_uuid": "c0864132b42af5025e2d349b36b0bc81304045d2"
   },
   "source": [
    "Actually hypeopt has wrappers for the most popular sklearn functions. Using them you don't even need to specify the space of parameters you need just tell hyperopt, what function you want to use. Just look at example below (we will use  XGBoost as an example because there is no LGBMRegressor in hpsklearn)."
   ]
  },
  {
   "cell_type": "code",
   "execution_count": null,
   "metadata": {
    "_uuid": "2e67612822ebfbef0493fd067b949f366ff41bbf"
   },
   "outputs": [],
   "source": [
    "# installing hpsklearn\n",
    "!pip install hpsklearn"
   ]
  },
  {
   "cell_type": "code",
   "execution_count": null,
   "metadata": {
    "_uuid": "b18b1293817dea0d1db3b4fb324570287a67491d",
    "scrolled": true
   },
   "outputs": [],
   "source": [
    "%%time\n",
    "\n",
    "from hpsklearn import HyperoptEstimator, xgboost_regression\n",
    "\n",
    "estim = HyperoptEstimator(regressor=xgboost_regression('my_gb'), max_evals=n_iter, trial_timeout=60, seed=random_state)\n",
    "\n",
    "estim.fit(train_data, train_targets)\n",
    "\n",
    "print(mean_squared_error(test_targets, estim.predict(test_data)))"
   ]
  },
  {
   "cell_type": "markdown",
   "metadata": {
    "_uuid": "be9571475c3c9802fb7bebbdc0cc4e302c13fa69"
   },
   "source": [
    "We have done almost nothing but got quite a good result. Moreover, if you are lazy enough you don't even need to choose the model, hyperopt will select it for you. Just ask hyperopt to find the best estimator for the given data (don't pass \"regressor\" parameter to the HyperoptEstimator) and wait - you can try to do it by yourself. Welcome to the AutoML world :)"
   ]
  }
 ],
 "metadata": {
  "kernelspec": {
   "display_name": "Python 3",
   "language": "python",
   "name": "python3"
  },
  "language_info": {
   "codemirror_mode": {
    "name": "ipython",
    "version": 3
   },
   "file_extension": ".py",
   "mimetype": "text/x-python",
   "name": "python",
   "nbconvert_exporter": "python",
   "pygments_lexer": "ipython3",
   "version": "3.7.1"
  }
 },
 "nbformat": 4,
 "nbformat_minor": 1
}
