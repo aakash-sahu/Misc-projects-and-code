{
 "cells": [
  {
   "cell_type": "markdown",
   "metadata": {},
   "source": [
    "## Virtual Environments"
   ]
  },
  {
   "cell_type": "code",
   "execution_count": 3,
   "metadata": {
    "collapsed": true
   },
   "outputs": [],
   "source": [
    "import virtualenv"
   ]
  },
  {
   "cell_type": "code",
   "execution_count": 2,
   "metadata": {},
   "outputs": [
    {
     "name": "stdout",
     "output_type": "stream",
     "text": [
      "Collecting virtualenv\n",
      "  Downloading https://files.pythonhosted.org/packages/b6/30/96a02b2287098b23b875bc8c2f58071c35d2efe84f747b64d523721dc2b5/virtualenv-16.0.0-py2.py3-none-any.whl (1.9MB)\n",
      "Installing collected packages: virtualenv\n",
      "Successfully installed virtualenv-16.0.0\n"
     ]
    },
    {
     "name": "stderr",
     "output_type": "stream",
     "text": [
      "You are using pip version 9.0.1, however version 10.0.1 is available.\n",
      "You should consider upgrading via the 'python -m pip install --upgrade pip' command.\n"
     ]
    }
   ],
   "source": [
    "#!pip install virtualenv --proxy https://proxy.statestr.com:80/"
   ]
  },
  {
   "cell_type": "code",
   "execution_count": 5,
   "metadata": {},
   "outputs": [
    {
     "name": "stdout",
     "output_type": "stream",
     "text": [
      "alabaster (0.7.10)\n",
      "anaconda-client (1.6.5)\n",
      "anaconda-navigator (1.6.9)\n",
      "anaconda-project (0.8.0)\n",
      "asn1crypto (0.22.0)\n",
      "astroid (1.5.3)\n",
      "astropy (2.0.2)\n",
      "babel (2.5.0)\n",
      "backports.shutil-get-terminal-size (1.0.0)\n",
      "beautifulsoup4 (4.6.0)\n",
      "bitarray (0.8.1)\n",
      "bkcharts (0.2)\n",
      "blaze (0.11.3)\n",
      "bleach (2.0.0)\n",
      "bokeh (0.12.10)\n",
      "boto (2.48.0)\n",
      "boto3 (1.5.28)\n",
      "botocore (1.8.42)\n",
      "Bottleneck (1.2.1)\n",
      "bz2file (0.98)\n",
      "CacheControl (0.12.3)\n",
      "certifi (2017.7.27.1)\n",
      "cffi (1.10.0)\n",
      "chardet (3.0.4)\n",
      "click (6.7)\n",
      "cloudpickle (0.4.0)\n",
      "clyent (1.2.2)\n",
      "colorama (0.3.9)\n",
      "comtypes (1.1.2)\n",
      "conda (4.4.10)\n",
      "conda-build (3.0.27)\n",
      "conda-verify (2.0.0)\n",
      "contextlib2 (0.5.5)\n",
      "cryptography (2.0.3)\n",
      "cx-Oracle (6.0.3)\n",
      "cycler (0.10.0)\n",
      "Cython (0.26.1)\n",
      "cytoolz (0.8.2)\n",
      "dask (0.15.3)\n",
      "datashape (0.5.4)\n",
      "decorator (4.1.2)\n",
      "distlib (0.2.5)\n",
      "distributed (1.19.1)\n",
      "docutils (0.14)\n",
      "entrypoints (0.2.3)\n",
      "et-xmlfile (1.0.1)\n",
      "fastcache (1.0.2)\n",
      "filelock (2.0.12)\n",
      "Flask (0.12.2)\n",
      "Flask-Cors (3.0.3)\n",
      "gensim (3.3.0)\n",
      "gevent (1.2.2)\n",
      "glob2 (0.5)\n",
      "greenlet (0.4.12)\n",
      "h5py (2.7.0)\n",
      "heapdict (1.0.0)\n",
      "html5lib (0.999999999)\n",
      "idna (2.6)\n",
      "imageio (2.2.0)\n",
      "imagesize (0.7.1)\n",
      "ipykernel (4.6.1)\n",
      "ipython (6.1.0)\n",
      "ipython-genutils (0.2.0)\n",
      "ipywidgets (7.0.0)\n",
      "isort (4.2.15)\n",
      "itsdangerous (0.24)\n",
      "jdcal (1.3)\n",
      "jedi (0.10.2)\n",
      "Jinja2 (2.9.6)\n",
      "jmespath (0.9.3)\n",
      "jsonschema (2.6.0)\n",
      "jupyter-client (5.1.0)\n",
      "jupyter-console (5.2.0)\n",
      "jupyter-core (4.3.0)\n",
      "jupyterlab (0.27.0)\n",
      "jupyterlab-launcher (0.4.0)\n",
      "lazy-object-proxy (1.3.1)\n",
      "llvmlite (0.20.0)\n",
      "locket (0.2.0)\n",
      "lockfile (0.12.2)\n",
      "lxml (4.1.0)\n",
      "MarkupSafe (1.0)\n",
      "matplotlib (2.1.0)\n",
      "mccabe (0.6.1)\n",
      "memory-profiler (0.52.0)\n",
      "menuinst (1.4.10)\n",
      "mistune (0.7.4)\n",
      "mpmath (0.19)\n",
      "msgpack-python (0.4.8)\n",
      "multipledispatch (0.4.9)\n",
      "navigator-updater (0.1.0)\n",
      "nbconvert (5.3.1)\n",
      "nbformat (4.4.0)\n",
      "networkx (2.0)\n",
      "nltk (3.2.4)\n",
      "nose (1.3.7)\n",
      "notebook (5.0.0)\n",
      "numba (0.35.0+10.g143f70e)\n",
      "numexpr (2.6.2)\n",
      "numpy (1.13.3)\n",
      "numpydoc (0.7.0)\n",
      "odo (0.5.1)\n",
      "olefile (0.44)\n",
      "openpyxl (2.4.8)\n",
      "packaging (16.8)\n",
      "pandas (0.20.3)\n",
      "pandocfilters (1.4.2)\n",
      "partd (0.3.8)\n",
      "path.py (10.3.1)\n",
      "pathlib2 (2.3.0)\n",
      "patsy (0.4.1)\n",
      "pep8 (1.7.0)\n",
      "pickleshare (0.7.4)\n",
      "Pillow (4.2.1)\n",
      "pip (9.0.1)\n",
      "pkginfo (1.4.1)\n",
      "ply (3.10)\n",
      "progress (1.3)\n",
      "prompt-toolkit (1.0.15)\n",
      "psutil (5.4.0)\n",
      "py (1.4.34)\n",
      "pycodestyle (2.3.1)\n",
      "pycosat (0.6.3)\n",
      "pycparser (2.18)\n",
      "pycrypto (2.6.1)\n",
      "pycurl (7.43.0)\n",
      "pyflakes (1.6.0)\n",
      "Pygments (2.2.0)\n",
      "pylint (1.7.4)\n",
      "pyodbc (4.0.17)\n",
      "pyOpenSSL (17.2.0)\n",
      "pyparsing (2.2.0)\n",
      "PySocks (1.6.7)\n",
      "pytest (3.2.1)\n",
      "python-dateutil (2.6.1)\n",
      "python-pptx (0.6.7)\n",
      "pytz (2017.2)\n",
      "PyWavelets (0.5.2)\n",
      "pywin32 (221)\n",
      "PyYAML (3.12)\n",
      "pyzmq (16.0.2)\n",
      "QtAwesome (0.4.4)\n",
      "qtconsole (4.3.1)\n",
      "QtPy (1.3.1)\n",
      "regex (2018.2.8)\n",
      "requests (2.18.4)\n",
      "rope (0.10.5)\n",
      "ruamel-yaml (0.11.14)\n",
      "s3transfer (0.1.12)\n",
      "scikit-image (0.13.0)\n",
      "scikit-learn (0.19.1)\n",
      "scipy (0.19.1)\n",
      "seaborn (0.8)\n",
      "setuptools (36.5.0.post20170921)\n",
      "simplegeneric (0.8.1)\n",
      "singledispatch (3.4.0.3)\n",
      "six (1.11.0)\n",
      "smart-open (1.5.6)\n",
      "snowballstemmer (1.2.1)\n",
      "sortedcollections (0.5.3)\n",
      "sortedcontainers (1.5.7)\n",
      "Sphinx (1.6.3)\n",
      "sphinxcontrib-websupport (1.0.1)\n",
      "spyder (3.2.4)\n",
      "SQLAlchemy (1.1.13)\n",
      "statsmodels (0.8.0)\n",
      "sympy (1.1.1)\n",
      "tables (3.4.2)\n",
      "tblib (1.3.2)\n",
      "testpath (0.3.1)\n",
      "tika (1.15)\n",
      "toolz (0.8.2)\n",
      "tornado (4.5.2)\n",
      "traitlets (4.3.2)\n",
      "typing (3.6.2)\n",
      "unicodecsv (0.14.1)\n",
      "urllib3 (1.22)\n",
      "virtualenv (16.0.0)\n",
      "wcwidth (0.1.7)\n",
      "webencodings (0.5.1)\n",
      "Werkzeug (0.12.2)\n",
      "wheel (0.29.0)\n",
      "widgetsnbextension (3.0.2)\n",
      "win-inet-pton (1.0.1)\n",
      "win-unicode-console (0.5)\n",
      "wincertstore (0.2)\n",
      "wrapt (1.10.11)\n",
      "xlrd (1.1.0)\n",
      "XlsxWriter (1.0.2)\n",
      "xlwings (0.11.4)\n",
      "xlwt (1.3.0)\n",
      "zict (0.1.3)\n"
     ]
    },
    {
     "name": "stderr",
     "output_type": "stream",
     "text": [
      "DEPRECATION: The default format will switch to columns in the future. You can use --format=(legacy|columns) (or define a format=(legacy|columns) in your pip.conf under the [list] section) to disable this warning.\n",
      "You are using pip version 9.0.1, however version 10.0.1 is available.\n",
      "You should consider upgrading via the 'python -m pip install --upgrade pip' command.\n"
     ]
    }
   ],
   "source": [
    "!pip list"
   ]
  },
  {
   "cell_type": "code",
   "execution_count": 6,
   "metadata": {
    "collapsed": true
   },
   "outputs": [],
   "source": [
    "!mkdir Environments"
   ]
  },
  {
   "cell_type": "code",
   "execution_count": 20,
   "metadata": {
    "collapsed": true
   },
   "outputs": [],
   "source": [
    "!cd Environments"
   ]
  },
  {
   "cell_type": "code",
   "execution_count": 21,
   "metadata": {},
   "outputs": [
    {
     "name": "stdout",
     "output_type": "stream",
     "text": [
      " Volume in drive C is OSDisk\n",
      " Volume Serial Number is 086E-20E4\n",
      "\n",
      " Directory of C:\\Users\\p624274\n",
      "\n",
      "07/03/2018  03:17 PM    <DIR>          .\n",
      "07/03/2018  03:17 PM    <DIR>          ..\n",
      "12/07/2017  04:22 PM    <DIR>          .anaconda\n",
      "03/26/2018  02:01 PM                64 .bash_history\n",
      "07/03/2018  03:24 PM    <DIR>          .conda\n",
      "07/03/2018  03:22 PM               145 .condarc\n",
      "06/29/2018  02:23 PM                55 .gitconfig\n",
      "03/23/2018  04:07 PM                44 .gitignore\n",
      "12/07/2017  06:46 PM    <DIR>          .idlerc\n",
      "07/03/2018  03:09 PM    <DIR>          .ipynb_checkpoints\n",
      "12/07/2017  04:29 PM    <DIR>          .ipython\n",
      "01/04/2018  11:00 PM    <DIR>          .ivy2\n",
      "12/07/2017  06:31 PM    <DIR>          .jupyter\n",
      "02/13/2018  11:12 AM    <DIR>          .matplotlib\n",
      "03/22/2018  02:59 PM    <DIR>          .oracle_jre_usage\n",
      "04/25/2018  01:09 PM    <DIR>          .spyder-py3\n",
      "08/09/2017  05:11 PM    <DIR>          .squirrel-sql\n",
      "03/23/2018  01:26 PM    <DIR>          .ssh\n",
      "01/17/2018  11:24 AM    <DIR>          .VirtualBox\n",
      "02/14/2018  01:00 AM    <DIR>          AnacondaProjects\n",
      "12/09/2017  02:59 AM             3,709 Big Data POC.ipynb\n",
      "12/07/2017  04:27 PM             1,019 Big Data POC.R\n",
      "11/29/2017  11:10 AM    <DIR>          Box Sync\n",
      "01/25/2018  12:52 AM    <DIR>          Contacts\n",
      "06/21/2018  09:32 PM    <DIR>          Desktop\n",
      "06/28/2018  05:27 PM               398 display_info.log\n",
      "06/14/2018  05:01 PM    <DIR>          Documents\n",
      "07/03/2018  01:05 PM    <DIR>          Downloads\n",
      "07/03/2018  03:16 PM    <DIR>          Environments\n",
      "06/29/2018  11:15 AM               392 example.log\n",
      "06/14/2018  02:08 PM    <DIR>          Favorites\n",
      "07/03/2018  01:36 PM            23,444 First class functions, closures, and decorators.ipynb\n",
      "06/29/2018  03:46 PM    <DIR>          Git_project\n",
      "03/22/2018  02:59 PM    <DIR>          knime-workspace\n",
      "01/25/2018  12:52 AM    <DIR>          Links\n",
      "10/06/2017  12:02 PM    <DIR>          mcafee dlp quarantined files\n",
      "12/01/2017  11:47 AM       147,727,477 MEF_data.csv\n",
      "07/03/2018  01:00 PM            35,288 memory_profiler-0.52.0.tar.gz\n",
      "01/25/2018  12:52 AM    <DIR>          Music\n",
      "10/27/2017  05:02 PM         2,111,220 ojdbc6.jar\n",
      "06/26/2018  05:17 PM             8,860 OOP- Classes-Copy1.ipynb\n",
      "06/28/2018  01:25 PM            28,684 OOP- Classes-Copy2.ipynb\n",
      "06/28/2018  01:12 PM            28,684 OOP- Classes.ipynb\n",
      "08/07/2017  04:54 PM    <DIR>          Oracle\n",
      "01/25/2018  12:52 AM    <DIR>          Pictures\n",
      "07/03/2018  03:17 PM            12,376 Python - tutorials.ipynb\n",
      "12/14/2017  04:35 PM            38,475 R Big data POX.ipynb\n",
      "01/25/2018  12:52 AM    <DIR>          Saved Games\n",
      "01/25/2018  12:52 AM    <DIR>          Searches\n",
      "07/03/2018  09:18 AM    <DIR>          Tracing\n",
      "12/07/2017  04:37 PM               826 Untitled1.ipynb\n",
      "02/13/2018  11:15 AM               581 Untitled2.ipynb\n",
      "12/07/2017  06:31 PM                72 Untitled3.ipynb\n",
      "12/07/2017  06:56 PM             1,123 Untitled4-Copy1.ipynb\n",
      "06/26/2018  04:18 PM                72 Untitled4.ipynb\n",
      "12/09/2017  03:32 AM                72 Untitled5.ipynb\n",
      "01/25/2018  12:52 AM    <DIR>          Videos\n",
      "              23 File(s)    150,023,080 bytes\n",
      "              34 Dir(s)  342,980,427,776 bytes free\n"
     ]
    }
   ],
   "source": [
    "!dir"
   ]
  },
  {
   "cell_type": "code",
   "execution_count": 23,
   "metadata": {},
   "outputs": [
    {
     "name": "stdout",
     "output_type": "stream",
     "text": [
      "Using base prefix 'C:\\\\Users\\\\p624274\\\\AppData\\\\Local\\\\Continuum\\\\anaconda3'\n",
      "New python executable in C:\\Users\\p624274\\project2_env\\Scripts\\python.exe\n",
      "copying C:\\Users\\p624274\\AppData\\Local\\Continuum\\anaconda3\\python.exe => C:\\Users\\p624274\\project2_env\\Scripts\\python.exe\n",
      "Installing setuptools, pip, wheel...done.\n"
     ]
    }
   ],
   "source": [
    "!virtualenv project2_env"
   ]
  },
  {
   "cell_type": "code",
   "execution_count": 1,
   "metadata": {},
   "outputs": [
    {
     "name": "stdout",
     "output_type": "stream",
     "text": [
      " Volume in drive C is OSDisk\n",
      " Volume Serial Number is 086E-20E4\n",
      "\n",
      " Directory of C:\\Users\\p624274\n",
      "\n",
      "07/03/2018  04:38 PM    <DIR>          .\n",
      "07/03/2018  04:38 PM    <DIR>          ..\n",
      "12/07/2017  04:22 PM    <DIR>          .anaconda\n",
      "03/26/2018  02:01 PM                64 .bash_history\n",
      "07/03/2018  03:24 PM    <DIR>          .conda\n",
      "07/03/2018  03:22 PM               145 .condarc\n",
      "06/29/2018  02:23 PM                55 .gitconfig\n",
      "03/23/2018  04:07 PM                44 .gitignore\n",
      "12/07/2017  06:46 PM    <DIR>          .idlerc\n",
      "07/03/2018  03:09 PM    <DIR>          .ipynb_checkpoints\n",
      "12/07/2017  04:29 PM    <DIR>          .ipython\n",
      "01/04/2018  11:00 PM    <DIR>          .ivy2\n",
      "12/07/2017  06:31 PM    <DIR>          .jupyter\n",
      "02/13/2018  11:12 AM    <DIR>          .matplotlib\n",
      "03/22/2018  02:59 PM    <DIR>          .oracle_jre_usage\n",
      "04/25/2018  01:09 PM    <DIR>          .spyder-py3\n",
      "08/09/2017  05:11 PM    <DIR>          .squirrel-sql\n",
      "03/23/2018  01:26 PM    <DIR>          .ssh\n",
      "01/17/2018  11:24 AM    <DIR>          .VirtualBox\n",
      "02/14/2018  01:00 AM    <DIR>          AnacondaProjects\n",
      "12/09/2017  02:59 AM             3,709 Big Data POC.ipynb\n",
      "12/07/2017  04:27 PM             1,019 Big Data POC.R\n",
      "11/29/2017  11:10 AM    <DIR>          Box Sync\n",
      "01/25/2018  12:52 AM    <DIR>          Contacts\n",
      "06/21/2018  09:32 PM    <DIR>          Desktop\n",
      "06/28/2018  05:27 PM               398 display_info.log\n",
      "06/14/2018  05:01 PM    <DIR>          Documents\n",
      "07/03/2018  01:05 PM    <DIR>          Downloads\n",
      "07/03/2018  03:28 PM    <DIR>          Environments\n",
      "06/29/2018  11:15 AM               392 example.log\n",
      "06/14/2018  02:08 PM    <DIR>          Favorites\n",
      "07/03/2018  01:36 PM            23,444 First class functions, closures, and decorators.ipynb\n",
      "06/29/2018  03:46 PM    <DIR>          Git_project\n",
      "03/22/2018  02:59 PM    <DIR>          knime-workspace\n",
      "01/25/2018  12:52 AM    <DIR>          Links\n",
      "10/06/2017  12:02 PM    <DIR>          mcafee dlp quarantined files\n",
      "12/01/2017  11:47 AM       147,727,477 MEF_data.csv\n",
      "07/03/2018  01:00 PM            35,288 memory_profiler-0.52.0.tar.gz\n",
      "01/25/2018  12:52 AM    <DIR>          Music\n",
      "10/27/2017  05:02 PM         2,111,220 ojdbc6.jar\n",
      "06/26/2018  05:17 PM             8,860 OOP- Classes-Copy1.ipynb\n",
      "06/28/2018  01:25 PM            28,684 OOP- Classes-Copy2.ipynb\n",
      "06/28/2018  01:12 PM            28,684 OOP- Classes.ipynb\n",
      "08/07/2017  04:54 PM    <DIR>          Oracle\n",
      "01/25/2018  12:52 AM    <DIR>          Pictures\n",
      "07/03/2018  03:49 PM    <DIR>          project2_env\n",
      "07/03/2018  04:38 PM            12,999 Python - tutorials.ipynb\n",
      "12/14/2017  04:35 PM            38,475 R Big data POX.ipynb\n",
      "01/25/2018  12:52 AM    <DIR>          Saved Games\n",
      "01/25/2018  12:52 AM    <DIR>          Searches\n",
      "07/03/2018  09:18 AM    <DIR>          Tracing\n",
      "12/07/2017  04:37 PM               826 Untitled1.ipynb\n",
      "02/13/2018  11:15 AM               581 Untitled2.ipynb\n",
      "12/07/2017  06:31 PM                72 Untitled3.ipynb\n",
      "12/07/2017  06:56 PM             1,123 Untitled4-Copy1.ipynb\n",
      "06/26/2018  04:18 PM                72 Untitled4.ipynb\n",
      "12/09/2017  03:32 AM                72 Untitled5.ipynb\n",
      "01/25/2018  12:52 AM    <DIR>          Videos\n",
      "              23 File(s)    150,023,703 bytes\n",
      "              35 Dir(s)  342,909,456,384 bytes free\n"
     ]
    }
   ],
   "source": [
    "!dir"
   ]
  },
  {
   "cell_type": "code",
   "execution_count": 4,
   "metadata": {},
   "outputs": [],
   "source": [
    "!project2_env\\Scripts\\activate.bat"
   ]
  },
  {
   "cell_type": "code",
   "execution_count": 5,
   "metadata": {},
   "outputs": [
    {
     "name": "stdout",
     "output_type": "stream",
     "text": [
      "alabaster (0.7.10)\n",
      "anaconda-client (1.6.5)\n",
      "anaconda-navigator (1.6.9)\n",
      "anaconda-project (0.8.0)\n",
      "asn1crypto (0.22.0)\n",
      "astroid (1.5.3)\n",
      "astropy (2.0.2)\n",
      "babel (2.5.0)\n",
      "backports.shutil-get-terminal-size (1.0.0)\n",
      "beautifulsoup4 (4.6.0)\n",
      "bitarray (0.8.1)\n",
      "bkcharts (0.2)\n",
      "blaze (0.11.3)\n",
      "bleach (2.0.0)\n",
      "bokeh (0.12.10)\n",
      "boto (2.48.0)\n",
      "boto3 (1.5.28)\n",
      "botocore (1.8.42)\n",
      "Bottleneck (1.2.1)\n",
      "bz2file (0.98)\n",
      "CacheControl (0.12.3)\n",
      "certifi (2018.4.16)\n",
      "cffi (1.10.0)\n",
      "chardet (3.0.4)\n",
      "click (6.7)\n",
      "cloudpickle (0.4.0)\n",
      "clyent (1.2.2)\n",
      "colorama (0.3.9)\n",
      "comtypes (1.1.2)\n",
      "conda (4.4.10)\n",
      "conda-build (3.0.27)\n",
      "conda-verify (2.0.0)\n",
      "contextlib2 (0.5.5)\n",
      "cryptography (2.0.3)\n",
      "cx-Oracle (6.0.3)\n",
      "cycler (0.10.0)\n",
      "Cython (0.26.1)\n",
      "cytoolz (0.8.2)\n",
      "dask (0.15.3)\n",
      "datashape (0.5.4)\n",
      "decorator (4.1.2)\n",
      "distlib (0.2.5)\n",
      "distributed (1.19.1)\n",
      "docutils (0.14)\n",
      "entrypoints (0.2.3)\n",
      "et-xmlfile (1.0.1)\n",
      "fastcache (1.0.2)\n",
      "filelock (2.0.12)\n",
      "Flask (0.12.2)\n",
      "Flask-Cors (3.0.3)\n",
      "gensim (3.3.0)\n",
      "gevent (1.2.2)\n",
      "glob2 (0.5)\n",
      "greenlet (0.4.12)\n",
      "h5py (2.7.0)\n",
      "heapdict (1.0.0)\n",
      "html5lib (0.999999999)\n",
      "idna (2.6)\n",
      "imageio (2.2.0)\n",
      "imagesize (0.7.1)\n",
      "ipykernel (4.6.1)\n",
      "ipython (6.1.0)\n",
      "ipython-genutils (0.2.0)\n",
      "ipywidgets (7.0.0)\n",
      "isort (4.2.15)\n",
      "itsdangerous (0.24)\n",
      "jdcal (1.3)\n",
      "jedi (0.10.2)\n",
      "Jinja2 (2.9.6)\n",
      "jmespath (0.9.3)\n",
      "jsonschema (2.6.0)\n",
      "jupyter-client (5.1.0)\n",
      "jupyter-console (5.2.0)\n",
      "jupyter-core (4.3.0)\n",
      "jupyterlab (0.27.0)\n",
      "jupyterlab-launcher (0.4.0)\n",
      "lazy-object-proxy (1.3.1)\n",
      "llvmlite (0.20.0)\n",
      "locket (0.2.0)\n",
      "lockfile (0.12.2)\n",
      "lxml (4.1.0)\n",
      "MarkupSafe (1.0)\n",
      "matplotlib (2.1.0)\n",
      "mccabe (0.6.1)\n",
      "memory-profiler (0.52.0)\n",
      "menuinst (1.4.10)\n",
      "mistune (0.7.4)\n",
      "mpmath (0.19)\n",
      "msgpack-python (0.4.8)\n",
      "multipledispatch (0.4.9)\n",
      "navigator-updater (0.1.0)\n",
      "nbconvert (5.3.1)\n",
      "nbformat (4.4.0)\n",
      "networkx (2.0)\n",
      "nltk (3.2.4)\n",
      "nose (1.3.7)\n",
      "notebook (5.0.0)\n",
      "numba (0.35.0+10.g143f70e)\n",
      "numexpr (2.6.2)\n",
      "numpy (1.13.3)\n",
      "numpydoc (0.7.0)\n",
      "odo (0.5.1)\n",
      "olefile (0.44)\n",
      "openpyxl (2.4.8)\n",
      "packaging (16.8)\n",
      "pandas (0.20.3)\n",
      "pandocfilters (1.4.2)\n",
      "partd (0.3.8)\n",
      "path.py (10.3.1)\n",
      "pathlib2 (2.3.0)\n",
      "patsy (0.4.1)\n",
      "pep8 (1.7.0)\n",
      "pickleshare (0.7.4)\n",
      "Pillow (4.2.1)\n",
      "pip (9.0.1)\n",
      "pkginfo (1.4.1)\n",
      "ply (3.10)\n",
      "progress (1.3)\n",
      "prompt-toolkit (1.0.15)\n",
      "psutil (5.4.0)\n",
      "py (1.4.34)\n",
      "pycodestyle (2.3.1)\n",
      "pycosat (0.6.3)\n",
      "pycparser (2.18)\n",
      "pycrypto (2.6.1)\n",
      "pycurl (7.43.0)\n",
      "pyflakes (1.6.0)\n",
      "Pygments (2.2.0)\n",
      "pylint (1.7.4)\n",
      "pyodbc (4.0.17)\n",
      "pyOpenSSL (17.2.0)\n",
      "pyparsing (2.2.0)\n",
      "PySocks (1.6.7)\n",
      "pytest (3.2.1)\n",
      "python-dateutil (2.6.1)\n",
      "python-pptx (0.6.7)\n",
      "pytz (2017.2)\n",
      "PyWavelets (0.5.2)\n",
      "pywin32 (221)\n",
      "PyYAML (3.12)\n",
      "pyzmq (16.0.2)\n",
      "QtAwesome (0.4.4)\n",
      "qtconsole (4.3.1)\n",
      "QtPy (1.3.1)\n",
      "regex (2018.2.8)\n",
      "requests (2.18.4)\n",
      "rope (0.10.5)\n",
      "ruamel-yaml (0.11.14)\n",
      "s3transfer (0.1.12)\n",
      "scikit-image (0.13.0)\n",
      "scikit-learn (0.19.1)\n",
      "scipy (0.19.1)\n",
      "seaborn (0.8)\n",
      "setuptools (36.5.0.post20170921)\n",
      "simplegeneric (0.8.1)\n",
      "singledispatch (3.4.0.3)\n",
      "six (1.11.0)\n",
      "smart-open (1.5.6)\n",
      "snowballstemmer (1.2.1)\n",
      "sortedcollections (0.5.3)\n",
      "sortedcontainers (1.5.7)\n",
      "Sphinx (1.6.3)\n",
      "sphinxcontrib-websupport (1.0.1)\n",
      "spyder (3.2.4)\n",
      "SQLAlchemy (1.1.13)\n",
      "statsmodels (0.8.0)\n",
      "sympy (1.1.1)\n",
      "tables (3.4.2)\n",
      "tblib (1.3.2)\n",
      "testpath (0.3.1)\n",
      "tika (1.15)\n",
      "toolz (0.8.2)\n",
      "tornado (4.5.2)\n",
      "traitlets (4.3.2)\n",
      "typing (3.6.2)\n",
      "unicodecsv (0.14.1)\n",
      "urllib3 (1.22)\n",
      "virtualenv (16.0.0)\n",
      "wcwidth (0.1.7)\n",
      "webencodings (0.5.1)\n",
      "Werkzeug (0.12.2)\n",
      "wheel (0.29.0)\n",
      "widgetsnbextension (3.0.2)\n",
      "win-inet-pton (1.0.1)\n",
      "win-unicode-console (0.5)\n",
      "wincertstore (0.2)\n",
      "wrapt (1.10.11)\n",
      "xlrd (1.1.0)\n",
      "XlsxWriter (1.0.2)\n",
      "xlwings (0.11.4)\n",
      "xlwt (1.3.0)\n",
      "zict (0.1.3)\n"
     ]
    },
    {
     "name": "stderr",
     "output_type": "stream",
     "text": [
      "DEPRECATION: The default format will switch to columns in the future. You can use --format=(legacy|columns) (or define a format=(legacy|columns) in your pip.conf under the [list] section) to disable this warning.\n",
      "You are using pip version 9.0.1, however version 10.0.1 is available.\n",
      "You should consider upgrading via the 'python -m pip install --upgrade pip' command.\n"
     ]
    }
   ],
   "source": [
    "!pip list"
   ]
  },
  {
   "cell_type": "code",
   "execution_count": 6,
   "metadata": {},
   "outputs": [
    {
     "data": {
      "text/plain": [
       "'C:\\\\Users\\\\p624274'"
      ]
     },
     "execution_count": 6,
     "metadata": {},
     "output_type": "execute_result"
    }
   ],
   "source": [
    "%pwd"
   ]
  },
  {
   "cell_type": "code",
   "execution_count": 7,
   "metadata": {},
   "outputs": [
    {
     "name": "stdout",
     "output_type": "stream",
     "text": [
      " Volume in drive C is OSDisk\n",
      " Volume Serial Number is 086E-20E4\n",
      "\n",
      " Directory of C:\\Users\\p624274\n",
      "\n",
      "07/03/2018  05:08 PM    <DIR>          .\n",
      "07/03/2018  05:08 PM    <DIR>          ..\n",
      "12/07/2017  04:22 PM    <DIR>          .anaconda\n",
      "03/26/2018  02:01 PM                64 .bash_history\n",
      "07/03/2018  03:24 PM    <DIR>          .conda\n",
      "07/03/2018  03:22 PM               145 .condarc\n",
      "06/29/2018  02:23 PM                55 .gitconfig\n",
      "03/23/2018  04:07 PM                44 .gitignore\n",
      "12/07/2017  06:46 PM    <DIR>          .idlerc\n",
      "07/03/2018  03:09 PM    <DIR>          .ipynb_checkpoints\n",
      "12/07/2017  04:29 PM    <DIR>          .ipython\n",
      "01/04/2018  11:00 PM    <DIR>          .ivy2\n",
      "12/07/2017  06:31 PM    <DIR>          .jupyter\n",
      "02/13/2018  11:12 AM    <DIR>          .matplotlib\n",
      "03/22/2018  02:59 PM    <DIR>          .oracle_jre_usage\n",
      "04/25/2018  01:09 PM    <DIR>          .spyder-py3\n",
      "08/09/2017  05:11 PM    <DIR>          .squirrel-sql\n",
      "03/23/2018  01:26 PM    <DIR>          .ssh\n",
      "01/17/2018  11:24 AM    <DIR>          .VirtualBox\n",
      "02/14/2018  01:00 AM    <DIR>          AnacondaProjects\n",
      "12/09/2017  02:59 AM             3,709 Big Data POC.ipynb\n",
      "12/07/2017  04:27 PM             1,019 Big Data POC.R\n",
      "11/29/2017  11:10 AM    <DIR>          Box Sync\n",
      "01/25/2018  12:52 AM    <DIR>          Contacts\n",
      "06/21/2018  09:32 PM    <DIR>          Desktop\n",
      "06/28/2018  05:27 PM               398 display_info.log\n",
      "06/14/2018  05:01 PM    <DIR>          Documents\n",
      "07/03/2018  01:05 PM    <DIR>          Downloads\n",
      "07/03/2018  03:28 PM    <DIR>          Environments\n",
      "06/29/2018  11:15 AM               392 example.log\n",
      "06/14/2018  02:08 PM    <DIR>          Favorites\n",
      "07/03/2018  01:36 PM            23,444 First class functions, closures, and decorators.ipynb\n",
      "06/29/2018  03:46 PM    <DIR>          Git_project\n",
      "03/22/2018  02:59 PM    <DIR>          knime-workspace\n",
      "01/25/2018  12:52 AM    <DIR>          Links\n",
      "10/06/2017  12:02 PM    <DIR>          mcafee dlp quarantined files\n",
      "12/01/2017  11:47 AM       147,727,477 MEF_data.csv\n",
      "07/03/2018  01:00 PM            35,288 memory_profiler-0.52.0.tar.gz\n",
      "01/25/2018  12:52 AM    <DIR>          Music\n",
      "10/27/2017  05:02 PM         2,111,220 ojdbc6.jar\n",
      "06/28/2018  01:12 PM            28,684 OOP- Classes.ipynb\n",
      "06/26/2018  05:17 PM             8,860 OOP- Classes-Copy1.ipynb\n",
      "06/28/2018  01:25 PM            28,684 OOP- Classes-Copy2.ipynb\n",
      "08/07/2017  04:54 PM    <DIR>          Oracle\n",
      "01/25/2018  12:52 AM    <DIR>          Pictures\n",
      "07/03/2018  03:49 PM    <DIR>          project2_env\n",
      "07/03/2018  05:08 PM            23,655 Python - tutorials.ipynb\n",
      "12/14/2017  04:35 PM            38,475 R Big data POX.ipynb\n",
      "01/25/2018  12:52 AM    <DIR>          Saved Games\n",
      "01/25/2018  12:52 AM    <DIR>          Searches\n",
      "07/03/2018  09:18 AM    <DIR>          Tracing\n",
      "12/07/2017  04:37 PM               826 Untitled1.ipynb\n",
      "02/13/2018  11:15 AM               581 Untitled2.ipynb\n",
      "12/07/2017  06:31 PM                72 Untitled3.ipynb\n",
      "06/26/2018  04:18 PM                72 Untitled4.ipynb\n",
      "12/07/2017  06:56 PM             1,123 Untitled4-Copy1.ipynb\n",
      "12/09/2017  03:32 AM                72 Untitled5.ipynb\n",
      "01/25/2018  12:52 AM    <DIR>          Videos\n",
      "              23 File(s)    150,034,359 bytes\n",
      "              35 Dir(s)  342,910,300,160 bytes free\n"
     ]
    }
   ],
   "source": [
    "%ls"
   ]
  },
  {
   "cell_type": "code",
   "execution_count": 8,
   "metadata": {},
   "outputs": [
    {
     "name": "stdout",
     "output_type": "stream",
     "text": [
      "C:\\Users\\p624274\\project2_env\\Scripts\n"
     ]
    }
   ],
   "source": [
    "%cd project2_env/Scripts"
   ]
  },
  {
   "cell_type": "code",
   "execution_count": 9,
   "metadata": {},
   "outputs": [
    {
     "name": "stdout",
     "output_type": "stream",
     "text": [
      " Volume in drive C is OSDisk\n",
      " Volume Serial Number is 086E-20E4\n",
      "\n",
      " Directory of C:\\Users\\p624274\\project2_env\\Scripts\n",
      "\n",
      "07/03/2018  03:49 PM    <DIR>          .\n",
      "07/03/2018  03:49 PM    <DIR>          ..\n",
      "07/03/2018  03:49 PM             2,193 activate\n",
      "07/03/2018  03:49 PM               773 activate.bat\n",
      "07/03/2018  03:49 PM             8,325 activate.ps1\n",
      "07/03/2018  03:49 PM             1,137 activate_this.py\n",
      "07/03/2018  03:49 PM               508 deactivate.bat\n",
      "07/03/2018  03:48 PM           102,787 easy_install.exe\n",
      "07/03/2018  03:48 PM           102,787 easy_install-3.6.exe\n",
      "07/03/2018  03:49 PM           102,769 pip.exe\n",
      "07/03/2018  03:49 PM           102,769 pip3.6.exe\n",
      "07/03/2018  03:49 PM           102,769 pip3.exe\n",
      "07/03/2018  03:30 PM            93,696 python.exe\n",
      "07/03/2018  03:30 PM            51,200 python3.dll\n",
      "07/03/2018  03:30 PM         3,601,408 python36.dll\n",
      "07/03/2018  03:30 PM            92,160 pythonw.exe\n",
      "07/03/2018  03:49 PM           102,766 wheel.exe\n",
      "              15 File(s)      4,468,047 bytes\n",
      "               2 Dir(s)  342,904,737,792 bytes free\n"
     ]
    }
   ],
   "source": [
    "%ls"
   ]
  },
  {
   "cell_type": "code",
   "execution_count": 10,
   "metadata": {
    "collapsed": true
   },
   "outputs": [],
   "source": [
    "!activate"
   ]
  },
  {
   "cell_type": "code",
   "execution_count": 12,
   "metadata": {},
   "outputs": [
    {
     "name": "stdout",
     "output_type": "stream",
     "text": [
      "Package    Version\n",
      "---------- -------\n",
      "pip        10.0.1 \n",
      "setuptools 39.1.0 \n",
      "wheel      0.31.1 \n"
     ]
    }
   ],
   "source": [
    "!pip list"
   ]
  },
  {
   "cell_type": "code",
   "execution_count": 13,
   "metadata": {},
   "outputs": [
    {
     "name": "stdout",
     "output_type": "stream",
     "text": [
      "^C\n"
     ]
    }
   ],
   "source": [
    "!pip install Numpy"
   ]
  },
  {
   "cell_type": "code",
   "execution_count": 15,
   "metadata": {},
   "outputs": [
    {
     "name": "stdout",
     "output_type": "stream",
     "text": [
      "Requirement already satisfied: pytz in c:\\users\\p624274\\project2_env\\lib\\site-packages (2018.5)\n"
     ]
    }
   ],
   "source": [
    "!pip install pytz --proxy https://proxy.statestr.com:80/"
   ]
  },
  {
   "cell_type": "code",
   "execution_count": 16,
   "metadata": {},
   "outputs": [
    {
     "name": "stdout",
     "output_type": "stream",
     "text": [
      "Package    Version\n",
      "---------- -------\n",
      "pip        10.0.1 \n",
      "pytz       2018.5 \n",
      "setuptools 39.1.0 \n",
      "wheel      0.31.1 \n"
     ]
    }
   ],
   "source": [
    "!pip list"
   ]
  },
  {
   "cell_type": "code",
   "execution_count": 17,
   "metadata": {},
   "outputs": [
    {
     "name": "stdout",
     "output_type": "stream",
     "text": [
      "Collecting psutil\n",
      "  Downloading https://files.pythonhosted.org/packages/36/4b/80d9eb5d39ec4b4d8aec8b098b5097a7291de20bbbe6c2ab233b9d8fe245/psutil-5.4.6-cp36-cp36m-win_amd64.whl (222kB)\n",
      "Installing collected packages: psutil\n",
      "Successfully installed psutil-5.4.6\n"
     ]
    }
   ],
   "source": [
    "!pip install psutil --proxy https://proxy.statestr.com:80/"
   ]
  },
  {
   "cell_type": "code",
   "execution_count": 19,
   "metadata": {},
   "outputs": [],
   "source": [
    "!pip freeze --local > requirements.txt"
   ]
  },
  {
   "cell_type": "code",
   "execution_count": 20,
   "metadata": {},
   "outputs": [
    {
     "name": "stdout",
     "output_type": "stream",
     "text": [
      " Volume in drive C is OSDisk\n",
      " Volume Serial Number is 086E-20E4\n",
      "\n",
      " Directory of C:\\Users\\p624274\\project2_env\\Scripts\n",
      "\n",
      "07/03/2018  05:21 PM    <DIR>          .\n",
      "07/03/2018  05:21 PM    <DIR>          ..\n",
      "07/03/2018  03:49 PM             2,193 activate\n",
      "07/03/2018  03:49 PM               773 activate.bat\n",
      "07/03/2018  03:49 PM             8,325 activate.ps1\n",
      "07/03/2018  03:49 PM             1,137 activate_this.py\n",
      "07/03/2018  03:49 PM               508 deactivate.bat\n",
      "07/03/2018  03:48 PM           102,787 easy_install.exe\n",
      "07/03/2018  03:48 PM           102,787 easy_install-3.6.exe\n",
      "07/03/2018  03:49 PM           102,769 pip.exe\n",
      "07/03/2018  03:49 PM           102,769 pip3.6.exe\n",
      "07/03/2018  03:49 PM           102,769 pip3.exe\n",
      "07/03/2018  03:30 PM            93,696 python.exe\n",
      "07/03/2018  03:30 PM            51,200 python3.dll\n",
      "07/03/2018  03:30 PM         3,601,408 python36.dll\n",
      "07/03/2018  03:30 PM            92,160 pythonw.exe\n",
      "07/03/2018  05:21 PM                29 requirements.txt\n",
      "07/03/2018  03:49 PM           102,766 wheel.exe\n",
      "              16 File(s)      4,468,076 bytes\n",
      "               2 Dir(s)  341,543,612,416 bytes free\n"
     ]
    }
   ],
   "source": [
    "%ls"
   ]
  },
  {
   "cell_type": "code",
   "execution_count": 22,
   "metadata": {},
   "outputs": [
    {
     "name": "stderr",
     "output_type": "stream",
     "text": [
      "'cat' is not recognized as an internal or external command,\n",
      "operable program or batch file.\n"
     ]
    }
   ],
   "source": [
    "!cat requirements.txt"
   ]
  },
  {
   "cell_type": "code",
   "execution_count": 23,
   "metadata": {
    "collapsed": true
   },
   "outputs": [],
   "source": [
    "!deactivate"
   ]
  },
  {
   "cell_type": "code",
   "execution_count": 24,
   "metadata": {},
   "outputs": [
    {
     "name": "stdout",
     "output_type": "stream",
     "text": [
      "Package    Version\n",
      "---------- -------\n",
      "pip        10.0.1 \n",
      "psutil     5.4.6  \n",
      "pytz       2018.5 \n",
      "setuptools 39.1.0 \n",
      "wheel      0.31.1 \n"
     ]
    }
   ],
   "source": [
    "!pip list"
   ]
  },
  {
   "cell_type": "code",
   "execution_count": 25,
   "metadata": {},
   "outputs": [
    {
     "name": "stdout",
     "output_type": "stream",
     "text": [
      " Volume in drive C is OSDisk\n",
      " Volume Serial Number is 086E-20E4\n",
      "\n",
      " Directory of C:\\Users\\p624274\\project2_env\\Scripts\n",
      "\n",
      "07/03/2018  05:21 PM    <DIR>          .\n",
      "07/03/2018  05:21 PM    <DIR>          ..\n",
      "07/03/2018  03:49 PM             2,193 activate\n",
      "07/03/2018  03:49 PM               773 activate.bat\n",
      "07/03/2018  03:49 PM             8,325 activate.ps1\n",
      "07/03/2018  03:49 PM             1,137 activate_this.py\n",
      "07/03/2018  03:49 PM               508 deactivate.bat\n",
      "07/03/2018  03:48 PM           102,787 easy_install.exe\n",
      "07/03/2018  03:48 PM           102,787 easy_install-3.6.exe\n",
      "07/03/2018  03:49 PM           102,769 pip.exe\n",
      "07/03/2018  03:49 PM           102,769 pip3.6.exe\n",
      "07/03/2018  03:49 PM           102,769 pip3.exe\n",
      "07/03/2018  03:30 PM            93,696 python.exe\n",
      "07/03/2018  03:30 PM            51,200 python3.dll\n",
      "07/03/2018  03:30 PM         3,601,408 python36.dll\n",
      "07/03/2018  03:30 PM            92,160 pythonw.exe\n",
      "07/03/2018  05:21 PM                29 requirements.txt\n",
      "07/03/2018  03:49 PM           102,766 wheel.exe\n",
      "              16 File(s)      4,468,076 bytes\n",
      "               2 Dir(s)  341,546,041,344 bytes free\n"
     ]
    }
   ],
   "source": [
    "%ls"
   ]
  },
  {
   "cell_type": "code",
   "execution_count": 26,
   "metadata": {
    "collapsed": true
   },
   "outputs": [],
   "source": [
    "!deactivate.bat"
   ]
  },
  {
   "cell_type": "code",
   "execution_count": 27,
   "metadata": {},
   "outputs": [
    {
     "name": "stdout",
     "output_type": "stream",
     "text": [
      "Package    Version\n",
      "---------- -------\n",
      "pip        10.0.1 \n",
      "psutil     5.4.6  \n",
      "pytz       2018.5 \n",
      "setuptools 39.1.0 \n",
      "wheel      0.31.1 \n"
     ]
    }
   ],
   "source": [
    "!pip list"
   ]
  },
  {
   "cell_type": "code",
   "execution_count": 28,
   "metadata": {},
   "outputs": [
    {
     "name": "stdout",
     "output_type": "stream",
     "text": [
      "The path \\usr\\bin\\python2.6 (from --python=\\usr\\bin\\python2.6) does not exist\n"
     ]
    }
   ],
   "source": [
    "!virtualenv -p \\usr\\bin\\python2.6 py26_env"
   ]
  },
  {
   "cell_type": "code",
   "execution_count": null,
   "metadata": {
    "collapsed": true
   },
   "outputs": [],
   "source": [
    "!pip install -r requirements.txt"
   ]
  }
 ],
 "metadata": {
  "kernelspec": {
   "display_name": "Python 3",
   "language": "python",
   "name": "python3"
  },
  "language_info": {
   "codemirror_mode": {
    "name": "ipython",
    "version": 3
   },
   "file_extension": ".py",
   "mimetype": "text/x-python",
   "name": "python",
   "nbconvert_exporter": "python",
   "pygments_lexer": "ipython3",
   "version": "3.6.3"
  }
 },
 "nbformat": 4,
 "nbformat_minor": 2
}
