{
 "cells": [
  {
   "cell_type": "markdown",
   "metadata": {},
   "source": [
    "## Logging Basics"
   ]
  },
  {
   "cell_type": "code",
   "execution_count": 1,
   "metadata": {},
   "outputs": [],
   "source": [
    "import logging"
   ]
  },
  {
   "cell_type": "code",
   "execution_count": 2,
   "metadata": {},
   "outputs": [],
   "source": [
    "logging.basicConfig(level = logging.DEBUG, filename = 'test.log',\n",
    "                   format = '%(asctime)s:%(levelname)s:%(lineno)d:%(message)s')"
   ]
  },
  {
   "cell_type": "code",
   "execution_count": 3,
   "metadata": {},
   "outputs": [],
   "source": [
    "def add(x,y):\n",
    "    return x+y\n",
    "def divide(x,y):\n",
    "    return x/y"
   ]
  },
  {
   "cell_type": "code",
   "execution_count": 4,
   "metadata": {},
   "outputs": [],
   "source": [
    "n1 = 50\n",
    "n2 = 5\n",
    "\n",
    "add_result = add(10,5)\n",
    "logging.debug('Add {} + {} = {}'.format(n1, n2, add_result))\n",
    "\n",
    "div_result = divide(10,5)\n",
    "logging.debug('Divide {} + {} = {}'.format(n1, n2, div_result))"
   ]
  },
  {
   "cell_type": "code",
   "execution_count": 8,
   "metadata": {},
   "outputs": [
    {
     "data": {
      "text/plain": [
       "'C:\\\\Users\\\\Aakash\\\\Desktop\\\\Aakash\\\\Projects\\\\Misc-projects-and-code'"
      ]
     },
     "execution_count": 8,
     "metadata": {},
     "output_type": "execute_result"
    }
   ],
   "source": [
    "%pwd"
   ]
  },
  {
   "cell_type": "markdown",
   "metadata": {},
   "source": [
    "## Practical example with class\n",
    "#import Employee"
   ]
  },
  {
   "cell_type": "code",
   "execution_count": null,
   "metadata": {},
   "outputs": [],
   "source": [
    "import logging\n",
    "logging.basicConfig(filename = 'employee.log', level = logging.INFO, \n",
    "                   format = '%(levelname)s:%(message)s')\n",
    "\n",
    "class Employee:\n",
    "    def __init__(self, first, last):\n",
    "        self.first = first\n",
    "        self.last = last\n",
    "        logging.info('Created employee {} - {}'.format(self.fullname, self.email))\n",
    "    \n",
    "    @property\n",
    "    def email(self):\n",
    "        return '{}.{}@company.com'.format(self.first, self.last)\n",
    "    \n",
    "    @property\n",
    "    def fullname(self):\n",
    "        return '{} {}'.format(self.first, self.last)\n",
    "    \n",
    "emp1 = Employee('John', 'Smith')\n",
    "emp2 = Employee('Jane', 'Doe')   "
   ]
  },
  {
   "cell_type": "markdown",
   "metadata": {},
   "source": [
    "## Logging advanced\n",
    "\n",
    "1. Loggers, Handlers, formatters"
   ]
  },
  {
   "cell_type": "code",
   "execution_count": 2,
   "metadata": {},
   "outputs": [],
   "source": [
    "import logging\n",
    "\n",
    "logger = logging.getLogger(__name__)\n",
    "logger.setLevel(logging.INFO)\n",
    "\n",
    "formatter = logging.Formatter('%(asctime)s:%(name)s:%(levelname)s:%(module)s:%(message)s')\n",
    "\n",
    "file_handler = logging.FileHandler('employee.log')\n",
    "file_handler.setFormatter(formatter)\n",
    "\n",
    "logger.addHandler(file_handler)\n",
    "\n",
    "class Employee:\n",
    "    def __init__(self, first, last):\n",
    "        self.first = first\n",
    "        self.last = last\n",
    "        logger.info('Created employee {} - {}'.format(self.fullname, self.email))\n",
    "    \n",
    "    @property\n",
    "    def email(self):\n",
    "        return '{}.{}@company.com'.format(self.first, self.last)\n",
    "    \n",
    "    @property\n",
    "    def fullname(self):\n",
    "        return '{} {}'.format(self.first, self.last)\n",
    "    \n",
    "emp1 = Employee('John', 'Smith')\n",
    "emp2 = Employee('Jane', 'Doe') "
   ]
  },
  {
   "cell_type": "markdown",
   "metadata": {},
   "source": [
    "## Importing module with a logger"
   ]
  },
  {
   "cell_type": "code",
   "execution_count": 1,
   "metadata": {},
   "outputs": [],
   "source": [
    "import logging\n",
    "import Employee\n",
    "\n",
    "logging.basicConfig(level = logging.DEBUG, filename = 'sample.log',\n",
    "                   format = '%(asctime)s:%(levelname)s:%(lineno)d:%(message)s')\n",
    "\n",
    "def add(x,y):\n",
    "    return x+y\n",
    "def divide(x,y):\n",
    "    return x/y\n",
    "\n",
    "n1 = 50\n",
    "n2 = 5\n",
    "\n",
    "add_result = add(n1,n2)\n",
    "logging.debug('Add {} + {} = {}'.format(n1, n2, add_result))\n",
    "\n",
    "div_result = divide(n1,n2)\n",
    "logging.debug('Divide {} + {} = {}'.format(n1, n2, div_result))"
   ]
  },
  {
   "cell_type": "markdown",
   "metadata": {},
   "source": [
    "## Setting two different loggers"
   ]
  },
  {
   "cell_type": "code",
   "execution_count": 3,
   "metadata": {},
   "outputs": [],
   "source": [
    "import logging\n",
    "import Employee\n",
    "\n",
    "logger = logging.getLogger(__name__)\n",
    "logger.setLevel(logging.DEBUG)\n",
    "\n",
    "formatter = logging.Formatter('%(name)s:%(levelname)s:%(message)s:\\n')\n",
    "\n",
    "file_handler = logging.FileHandler('sample.log')\n",
    "file_handler.setLevel(logging.ERROR)\n",
    "file_handler.setFormatter(formatter)\n",
    "\n",
    "logger.addHandler(file_handler)\n",
    "\n",
    "def add(x,y):\n",
    "    return x+y\n",
    "\n",
    "def divide(x,y):\n",
    "    try:\n",
    "        result = x/y\n",
    "    except ZeroDivisionError:\n",
    "        logger.exception('Tried to divide by zero')\n",
    "    else:\n",
    "        return result\n",
    "        \n",
    "n1 = 50\n",
    "n2 = 0\n",
    "\n",
    "add_result = add(n1,n2)\n",
    "logger.debug('Add {} + {} = {}'.format(n1, n2, add_result))\n",
    "\n",
    "div_result = divide(n1,n2)\n",
    "logger.debug('Divide {} / {} = {}'.format(n1, n2, div_result))"
   ]
  },
  {
   "cell_type": "markdown",
   "metadata": {},
   "source": [
    "## Setting multiple handlers and loggers"
   ]
  },
  {
   "cell_type": "code",
   "execution_count": 7,
   "metadata": {},
   "outputs": [
    {
     "name": "stderr",
     "output_type": "stream",
     "text": [
      "Add 50 + 0 = 50\n",
      "__main__:DEBUG:Add 50 + 0 = 50:\n",
      "\n",
      "__main__:DEBUG:Add 50 + 0 = 50\n",
      "2018-08-21 22:31:46,502:__main__:Add 50 + 0 = 50\n",
      "Tried to divide by zero\n",
      "Traceback (most recent call last):\n",
      "  File \"<ipython-input-7-3f67ae5d35e5>\", line 24, in divide\n",
      "    result = x/y\n",
      "ZeroDivisionError: division by zero\n",
      "__main__:ERROR:Tried to divide by zero:\n",
      "Traceback (most recent call last):\n",
      "  File \"<ipython-input-7-3f67ae5d35e5>\", line 24, in divide\n",
      "    result = x/y\n",
      "ZeroDivisionError: division by zero\n",
      "__main__:ERROR:Tried to divide by zero\n",
      "Traceback (most recent call last):\n",
      "  File \"<ipython-input-7-3f67ae5d35e5>\", line 24, in divide\n",
      "    result = x/y\n",
      "ZeroDivisionError: division by zero\n",
      "2018-08-21 22:31:46,518:__main__:Tried to divide by zero\n",
      "Traceback (most recent call last):\n",
      "  File \"<ipython-input-7-3f67ae5d35e5>\", line 24, in divide\n",
      "    result = x/y\n",
      "ZeroDivisionError: division by zero\n",
      "Divide 50 / 0 = None\n",
      "__main__:DEBUG:Divide 50 / 0 = None:\n",
      "\n",
      "__main__:DEBUG:Divide 50 / 0 = None\n",
      "2018-08-21 22:31:46,518:__main__:Divide 50 / 0 = None\n"
     ]
    }
   ],
   "source": [
    "import logging\n",
    "\n",
    "logger = logging.getLogger(__name__)\n",
    "logger.setLevel(logging.DEBUG)\n",
    "\n",
    "formatter = logging.Formatter('%(asctime)s:%(name)s:%(message)s')\n",
    "\n",
    "file_handler = logging.FileHandler('sample.log')\n",
    "file_handler.setLevel(logging.ERROR) #setting logger at file level\n",
    "file_handler.setFormatter(formatter)\n",
    "\n",
    "#creating a logger to print at console\n",
    "stream_handler = logging.StreamHandler()\n",
    "stream_handler.setFormatter(formatter)\n",
    "\n",
    "logger.addHandler(file_handler) # add handler to logger\n",
    "logger.addHandler(stream_handler)\n",
    "\n",
    "def add(x,y):\n",
    "    return x+y\n",
    "\n",
    "def divide(x,y):\n",
    "    try:\n",
    "        result = x/y\n",
    "    except ZeroDivisionError:\n",
    "        #logger.error('Tried to divide by zero')\n",
    "        logger.exception('Tried to divide by zero')\n",
    "    else:\n",
    "        return result\n",
    "        \n",
    "n1 = 50\n",
    "n2 = 0\n",
    "\n",
    "add_result = add(n1,n2)\n",
    "logger.debug('Add {} + {} = {}'.format(n1, n2, add_result))\n",
    "\n",
    "div_result = divide(n1,n2)\n",
    "logger.debug('Divide {} / {} = {}'.format(n1, n2, div_result))"
   ]
  },
  {
   "cell_type": "code",
   "execution_count": null,
   "metadata": {},
   "outputs": [],
   "source": []
  }
 ],
 "metadata": {
  "kernelspec": {
   "display_name": "Python 3",
   "language": "python",
   "name": "python3"
  },
  "language_info": {
   "codemirror_mode": {
    "name": "ipython",
    "version": 3
   },
   "file_extension": ".py",
   "mimetype": "text/x-python",
   "name": "python",
   "nbconvert_exporter": "python",
   "pygments_lexer": "ipython3",
   "version": "3.6.5"
  }
 },
 "nbformat": 4,
 "nbformat_minor": 2
}
